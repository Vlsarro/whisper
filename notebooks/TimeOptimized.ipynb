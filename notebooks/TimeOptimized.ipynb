{
 "cells": [
  {
   "cell_type": "code",
   "execution_count": null,
   "metadata": {},
   "outputs": [],
   "source": [
    "import whisper\n",
    "from tqdm import tqdm\n",
    "\n",
    "\n",
    "class WishperModel:\n",
    "    def __init__(self, device='cuda:1'):\n",
    "        super(WishperModel, self).__init__()\n",
    "        self.model = whisper.load_model('medium', device=device)\n",
    "\n",
    "        self.f = 16000\n",
    "        self.time_ = 30\n",
    "    \n",
    "    def __call__(self, path_wav: str):\n",
    "        audio = whisper.load_audio(path_wav)\n",
    "\n",
    "        text = ''\n",
    "        for start in range(int(len(audio) / self.time_ // self.f + 1)):\n",
    "            audio_temp = audio[start * self.f *self.time_:(start + 1) * self.f * self.time_]\n",
    "            audio_temp = whisper.pad_or_trim(audio_temp)\n",
    "\n",
    "            mel = whisper.log_mel_spectrogram(audio_temp).to(self.model.device)\n",
    "            options = whisper.DecodingOptions()\n",
    "            result = whisper.decode(self.model, mel, options)\n",
    "            text += result.text\n",
    "        return text"
   ]
  },
  {
   "cell_type": "code",
   "execution_count": null,
   "metadata": {},
   "outputs": [],
   "source": [
    "asr = WishperModel()\n",
    "\n",
    "for _ in tqdm(range(10)):\n",
    "    print(asr('test/7.mp3'))"
   ]
  }
 ],
 "metadata": {
  "language_info": {
   "name": "python"
  },
  "orig_nbformat": 4
 },
 "nbformat": 4,
 "nbformat_minor": 2
}
